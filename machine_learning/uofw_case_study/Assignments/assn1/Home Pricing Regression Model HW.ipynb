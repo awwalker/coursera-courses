{
 "cells": [
  {
   "cell_type": "markdown",
   "metadata": {},
   "source": [
    "# Home Pricing Simple Regression HW"
   ]
  },
  {
   "cell_type": "code",
   "execution_count": 2,
   "metadata": {
    "collapsed": false
   },
   "outputs": [
    {
     "name": "stderr",
     "output_type": "stream",
     "text": [
      "[INFO] \u001b[1;32m1452131435 : INFO:     (initialize_globals_from_environment:282): Setting configuration variable GRAPHLAB_FILEIO_ALTERNATIVE_SSL_CERT_FILE to //anaconda/envs/py27/lib/python2.7/site-packages/certifi/cacert.pem\n",
      "\u001b[0m\u001b[1;32m1452131435 : INFO:     (initialize_globals_from_environment:282): Setting configuration variable GRAPHLAB_FILEIO_ALTERNATIVE_SSL_CERT_DIR to \n",
      "\u001b[0mThis non-commercial license of GraphLab Create is assigned to aw2341@nyu.edu and will expire on January 04, 2017. For commercial licensing options, visit https://dato.com/buy/.\n",
      "\n",
      "[INFO] Start server at: ipc:///tmp/graphlab_server-22999 - Server binary: /anaconda/envs/py27/lib/python2.7/site-packages/graphlab/unity_server - Server log: /tmp/graphlab_server_1452131435.log\n",
      "[INFO] GraphLab Server Version: 1.7.1\n"
     ]
    }
   ],
   "source": [
    "import graphlab\n",
    "graphlab.canvas.set_target('ipynb')"
   ]
  },
  {
   "cell_type": "code",
   "execution_count": 8,
   "metadata": {
    "collapsed": false
   },
   "outputs": [],
   "source": [
    "my_features = ['bedrooms', 'bathrooms', 'sqft_living', 'sqft_lot', 'floors', 'zipcode','price']\n",
    "advanced_features = ['bedrooms', 'bathrooms', 'sqft_living', 'sqft_lot', 'floors', 'zipcode',\n",
    "                    'condition', # condition of the house\n",
    "                    'grade', # measure of quality of construction\n",
    "                    'waterfront', # waterfront property\n",
    "                    'view', # type of view\n",
    "                    'sqft_above', # square feet above ground\n",
    "                    'sqft_basement', # square feet in basement\n",
    "                    'yr_built' # the year built\n",
    "                    'yr_renovated', # the year renovated\n",
    "                    'lat', 'long', # lat and lon coordinates\n",
    "                    'sqft_living15', # average sq.ft. of 15 nearest neighbors\n",
    "                    'sqft_lot15' # average lot size of 15 nearest neighbors\n",
    "                    ]"
   ]
  },
  {
   "cell_type": "markdown",
   "metadata": {},
   "source": [
    "## Selection and Summary Statistics \n",
    "    Compute average price of houses in the zip code with the highest afverage sale price \n",
    "    Zip Code in question is 98038\n",
    "    Save\n",
    "    Value = $366867.6"
   ]
  },
  {
   "cell_type": "code",
   "execution_count": 14,
   "metadata": {
    "collapsed": false
   },
   "outputs": [
    {
     "name": "stdout",
     "output_type": "stream",
     "text": [
      "PROGRESS: Finished parsing file /Users/aaronwalker/Documents/coursera_work/machine_learning/uofw_case_study/Assignments/assn1/home_data.csv\n",
      "PROGRESS: Parsing completed. Parsed 100 lines in 0.096301 secs.\n",
      "------------------------------------------------------\n",
      "Inferred types from first line of file as \n",
      "column_type_hints=[int,str,int,int,float,int,int,float,int,int,int,int,int,int,int,int,int,float,float,int,int]\n",
      "If parsing fails due to incorrect types, you can correct\n",
      "the inferred type list above and pass it to read_csv in\n",
      "the column_type_hints argument\n",
      "------------------------------------------------------\n",
      "PROGRESS: Finished parsing file /Users/aaronwalker/Documents/coursera_work/machine_learning/uofw_case_study/Assignments/assn1/home_data.csv\n",
      "PROGRESS: Parsing completed. Parsed 21613 lines in 0.085862 secs.\n",
      "21613\n",
      "366867.6\n"
     ]
    }
   ],
   "source": [
    "sales = graphlab.SFrame('home_data.csv')\n",
    "print sales.num_rows()\n",
    "zips = sales[sales['zipcode'] == 98038]\n",
    "#zips[my_features].show()\n",
    "print zips['price'].mean()"
   ]
  },
  {
   "cell_type": "markdown",
   "metadata": {},
   "source": [
    "## Filtering Data\n",
    "    Select houses that have 'sqft_living' > 2000 sqft but no larger than 4000 sqft\n",
    "    What fraction of all houses have 'sqft_living' in this range? Save\n",
    "    96.3771804007 %"
   ]
  },
  {
   "cell_type": "code",
   "execution_count": 19,
   "metadata": {
    "collapsed": false
   },
   "outputs": [
    {
     "name": "stdout",
     "output_type": "stream",
     "text": [
      "96.3771804007\n"
     ]
    }
   ],
   "source": [
    "med_houses = sales[sales['sqft_living'] > 2000 and sales['sqft_living'] <= 4000]\n",
    "#med_houses[my_features].show()\n",
    "print float(med_houses.num_rows() ) / sales.num_rows() * 100"
   ]
  },
  {
   "cell_type": "markdown",
   "metadata": {},
   "source": [
    "## Build a gression model "
   ]
  },
  {
   "cell_type": "code",
   "execution_count": null,
   "metadata": {
    "collapsed": true
   },
   "outputs": [],
   "source": []
  }
 ],
 "metadata": {
  "kernelspec": {
   "display_name": "Python 2",
   "language": "python",
   "name": "python2"
  },
  "language_info": {
   "codemirror_mode": {
    "name": "ipython",
    "version": 2
   },
   "file_extension": ".py",
   "mimetype": "text/x-python",
   "name": "python",
   "nbconvert_exporter": "python",
   "pygments_lexer": "ipython2",
   "version": "2.7.11"
  }
 },
 "nbformat": 4,
 "nbformat_minor": 0
}
